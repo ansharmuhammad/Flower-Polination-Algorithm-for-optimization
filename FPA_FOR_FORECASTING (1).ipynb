{
  "nbformat": 4,
  "nbformat_minor": 0,
  "metadata": {
    "colab": {
      "name": "FPA FOR FORECASTING.ipynb",
      "provenance": [],
      "collapsed_sections": [],
      "toc_visible": true
    },
    "kernelspec": {
      "name": "python3",
      "display_name": "Python 3"
    }
  },
  "cells": [
    {
      "cell_type": "code",
      "metadata": {
        "id": "AZxaaMpLO512",
        "colab_type": "code",
        "colab": {}
      },
      "source": [
        "#import librari yang diperlukan\n",
        "\n",
        "import numpy as np\n",
        "import pandas as pd\n",
        "from levy import get_levy_flight_array\n",
        "import matplotlib.pyplot as plt\n",
        "from IPython.display import display\n",
        "from sklearn.metrics import mean_squared_error\n",
        "from sklearn.linear_model import LinearRegression"
      ],
      "execution_count": 0,
      "outputs": []
    },
    {
      "cell_type": "code",
      "metadata": {
        "id": "qeHe2DKyVJ2z",
        "colab_type": "code",
        "outputId": "2f8613de-f7b6-42a4-d454-e15cfa9a3dec",
        "colab": {
          "base_uri": "https://localhost:8080/",
          "height": 204
        }
      },
      "source": [
        "#===========================initiate data ================================\n",
        "file_input = 'USDJPYterbaru'\n",
        "choose_column = 'close'\n",
        "percentage_train = 0.8\n",
        "percentage_validate = 0.2\n",
        "#=========================================================================\n",
        "\n",
        "#import data dari file csv\n",
        "data = pd.read_csv(file_input+'.csv',header=None)\n",
        "data.columns = ['date', 'time', 'open', 'high', 'low', 'close', 'volume']\n",
        "shape = data.shape\n",
        "length_data = shape[0]\n",
        "\n",
        "display(data.head())\n",
        "data = data['close']\n",
        "\n",
        "#membagi data menjadi data training dan data testing\n",
        "data_train = data[:round(length_data*percentage_train)]\n",
        "data_validate = data[round(length_data*percentage_train):]\n",
        "data_test = data_validate.reset_index(drop=True)"
      ],
      "execution_count": 0,
      "outputs": [
        {
          "output_type": "display_data",
          "data": {
            "text/html": [
              "<div>\n",
              "<style scoped>\n",
              "    .dataframe tbody tr th:only-of-type {\n",
              "        vertical-align: middle;\n",
              "    }\n",
              "\n",
              "    .dataframe tbody tr th {\n",
              "        vertical-align: top;\n",
              "    }\n",
              "\n",
              "    .dataframe thead th {\n",
              "        text-align: right;\n",
              "    }\n",
              "</style>\n",
              "<table border=\"1\" class=\"dataframe\">\n",
              "  <thead>\n",
              "    <tr style=\"text-align: right;\">\n",
              "      <th></th>\n",
              "      <th>date</th>\n",
              "      <th>time</th>\n",
              "      <th>open</th>\n",
              "      <th>high</th>\n",
              "      <th>low</th>\n",
              "      <th>close</th>\n",
              "      <th>volume</th>\n",
              "    </tr>\n",
              "  </thead>\n",
              "  <tbody>\n",
              "    <tr>\n",
              "      <th>0</th>\n",
              "      <td>2003.09.26</td>\n",
              "      <td>00:00</td>\n",
              "      <td>112.07</td>\n",
              "      <td>112.33</td>\n",
              "      <td>111.65</td>\n",
              "      <td>111.68</td>\n",
              "      <td>9297</td>\n",
              "    </tr>\n",
              "    <tr>\n",
              "      <th>1</th>\n",
              "      <td>2003.09.29</td>\n",
              "      <td>00:00</td>\n",
              "      <td>111.61</td>\n",
              "      <td>111.82</td>\n",
              "      <td>110.69</td>\n",
              "      <td>110.80</td>\n",
              "      <td>10488</td>\n",
              "    </tr>\n",
              "    <tr>\n",
              "      <th>2</th>\n",
              "      <td>2003.09.30</td>\n",
              "      <td>00:00</td>\n",
              "      <td>110.80</td>\n",
              "      <td>112.14</td>\n",
              "      <td>110.09</td>\n",
              "      <td>111.49</td>\n",
              "      <td>13151</td>\n",
              "    </tr>\n",
              "    <tr>\n",
              "      <th>3</th>\n",
              "      <td>2003.10.01</td>\n",
              "      <td>00:00</td>\n",
              "      <td>111.47</td>\n",
              "      <td>111.60</td>\n",
              "      <td>110.50</td>\n",
              "      <td>110.60</td>\n",
              "      <td>9832</td>\n",
              "    </tr>\n",
              "    <tr>\n",
              "      <th>4</th>\n",
              "      <td>2003.10.02</td>\n",
              "      <td>00:00</td>\n",
              "      <td>110.59</td>\n",
              "      <td>111.45</td>\n",
              "      <td>110.51</td>\n",
              "      <td>110.75</td>\n",
              "      <td>9362</td>\n",
              "    </tr>\n",
              "  </tbody>\n",
              "</table>\n",
              "</div>"
            ],
            "text/plain": [
              "         date   time    open    high     low   close  volume\n",
              "0  2003.09.26  00:00  112.07  112.33  111.65  111.68    9297\n",
              "1  2003.09.29  00:00  111.61  111.82  110.69  110.80   10488\n",
              "2  2003.09.30  00:00  110.80  112.14  110.09  111.49   13151\n",
              "3  2003.10.01  00:00  111.47  111.60  110.50  110.60    9832\n",
              "4  2003.10.02  00:00  110.59  111.45  110.51  110.75    9362"
            ]
          },
          "metadata": {
            "tags": []
          }
        }
      ]
    },
    {
      "cell_type": "code",
      "metadata": {
        "colab_type": "code",
        "id": "X7VbIIgq1O4Y",
        "colab": {}
      },
      "source": [
        "#======================hyper  parameter=========================\n",
        "window = 5\n",
        "\n",
        "#50, 100, 150\n",
        "popsize = 150 \n",
        "\n",
        "#:0.3 ; 0.5; 0.8\n",
        "switch_prob = 0.8\n",
        "\n",
        "max_iter = 100\n",
        "#================================================================"
      ],
      "execution_count": 0,
      "outputs": []
    },
    {
      "cell_type": "code",
      "metadata": {
        "colab_type": "code",
        "id": "N7TJJS2q1O4J",
        "colab": {}
      },
      "source": [
        "#fungsi membuat tabel yang berisi data sliding window\n",
        "def sliding_window(data, window=5):\n",
        "    data_window = []\n",
        "    for i in range(len(data)-window):\n",
        "        sub_data = []\n",
        "        for j in range(window):\n",
        "            sub_data.append(data[i+j])\n",
        "        data_window.append(sub_data)\n",
        "    df = pd.DataFrame(data_window)\n",
        "    return df"
      ],
      "execution_count": 0,
      "outputs": []
    },
    {
      "cell_type": "code",
      "metadata": {
        "colab_type": "code",
        "id": "8q2nb2NU1O33",
        "colab": {}
      },
      "source": [
        "#memisahkan data target\n",
        "data_window = sliding_window(data_train,window=window+1)\n",
        "train_x = data_window.drop(window,axis=1) #window days before value\n",
        "train_y = data_window[window] #days value"
      ],
      "execution_count": 0,
      "outputs": []
    },
    {
      "cell_type": "code",
      "metadata": {
        "colab_type": "code",
        "id": "0jQo05dh1O3G",
        "colab": {}
      },
      "source": [
        "#fungsi inisialisasi populasi\n",
        "def initialize_population(popsize,window=5):\n",
        "    return np.array([[np.random.uniform(0, 1) for i in range(window+1)] for j in range(popsize)])\n",
        "\n",
        "#fungsi menghitung MSE individu\n",
        "def mse_ind(individu,x,y,window=5):\n",
        "    return np.mean((np.sum(individu[0:window]*x,axis=1)+individu[window]-y)**2)\n",
        "\n",
        "#fungsi menghitung MSE populasi (semua individu)\n",
        "def mse_all(population, window, data_x, data_y):\n",
        "    counter = 0\n",
        "    solution = []\n",
        "    for individu in population:\n",
        "        solution.append([counter,individu,mse_ind(individu,data_x,data_y, window=window)])\n",
        "        counter += 1\n",
        "    return solution\n",
        "\n",
        "#melakukan penyerbukan global\n",
        "def global_pol(gbest,flower,window=5):\n",
        "    levy_vector = get_levy_flight_array(window+1)\n",
        "    new_flower = flower + levy_vector*(gbest[1]-flower)\n",
        "    return new_flower\n",
        "\n",
        "#melakukan penyerbukan lokal\n",
        "def local_pol(flower,window=5):\n",
        "    flower1 = np.random.randint(0,len(population))\n",
        "    flower2 = np.random.randint(0,len(population))\n",
        "    new_flower = flower + np.random.uniform(0,1,window+1)*(population[flower1]-population[flower2])\n",
        "    return new_flower\n",
        "\n",
        "#fungsi penyerbukan\n",
        "def polination(gbest,population,switch_prob,window):\n",
        "    new_pop = []\n",
        "    for individu in population:\n",
        "        rand = np.random.uniform(0,1)\n",
        "        if rand < switch_prob:\n",
        "            #global polination\n",
        "            new_pop.append(global_pol(gbest,individu, window=window))\n",
        "        else:\n",
        "            #local politantion\n",
        "            new_pop.append(local_pol(individu,window=window))\n",
        "    return np.array(new_pop)"
      ],
      "execution_count": 0,
      "outputs": []
    },
    {
      "cell_type": "markdown",
      "metadata": {
        "id": "514MW784jiMk",
        "colab_type": "text"
      },
      "source": [
        "# Flower Polination Algorithm Forecasting with Multiple Linier Regression and Evaluation with Mean Squared Error"
      ]
    },
    {
      "cell_type": "code",
      "metadata": {
        "id": "8qJ-UEzjjfsF",
        "colab_type": "code",
        "colab": {}
      },
      "source": [
        "#membuatt populasi\n",
        "population = initialize_population(popsize, window)\n",
        "\n",
        "#menghitung nilai fitness\n",
        "fitness_all = mse_all(population, window, train_x, train_y)\n",
        "\n",
        "#menyimpan individu terbaik sementara\n",
        "gbest = min(fitness_all, key = lambda x:x[2])\n",
        "\n",
        "#menjalankan algoritma penyerbukan bunga\n",
        "solution = []\n",
        "for i in range(max_iter):\n",
        "    #membuat populasi\n",
        "    new_pop = polination(gbest,population,switch_prob,window)\n",
        "    #menghitung fitness\n",
        "    fitness_all = mse_all(new_pop, window, train_x, train_y)\n",
        "    \n",
        "    #mencari individu terbaik dari populasi yang ada\n",
        "    pop_gbest = min(fitness_all, key = lambda x:x[2])\n",
        "\n",
        "    #membandingkan individu terbaik sementara dengan individu terbaik populasi\n",
        "    if pop_gbest[2] < gbest[2]:\n",
        "        gbest = pop_gbest\n",
        "    population = new_pop\n",
        "    solution.append([i+1,gbest[2]])\n",
        "\n",
        "#menyimpan data ke dalam file\n",
        "solution_df = pd.DataFrame(solution,columns=['iteration','MSE'])\n",
        "save_file = file_input+'_'+str(switch_prob)+'_'+str(popsize)\n",
        "solution_df.to_csv(save_file+'.csv')\n",
        "fo = open(save_file+'.txt','w+')\n",
        "for i in range(len(gbest[1])):\n",
        "    if i != len(gbest[1])-1:\n",
        "        fo.write('x'+str(i+1)+' '+str(gbest[1][i])+'\\n')\n",
        "    else:\n",
        "        fo.write('bias'+' '+str(gbest[1][i]))\n",
        "fo.close()"
      ],
      "execution_count": 0,
      "outputs": []
    },
    {
      "cell_type": "markdown",
      "metadata": {
        "id": "o_plcC0ZAi9Z",
        "colab_type": "text"
      },
      "source": [
        "## Plotting MSE each Iteration"
      ]
    },
    {
      "cell_type": "code",
      "metadata": {
        "id": "Ksz0iFOxAP6R",
        "colab_type": "code",
        "outputId": "657a93cd-3146-42ea-d195-05cce9b84858",
        "colab": {
          "base_uri": "https://localhost:8080/",
          "height": 295
        }
      },
      "source": [
        "data_plot = pd.read_csv('USDJPYterbaru_0.3_50.csv')\n",
        "\n",
        "#membuat grafik perubahan individu terbaik\n",
        "# line 1 points \n",
        "x1 = data_plot['iteration']\n",
        "y1 = data_plot['MSE']\n",
        "# plotting the line 1 points  \n",
        "plt.plot(x1, y1, label = \"line 1\") \n",
        "  \n",
        "# naming the x axis \n",
        "plt.xlabel('x - axis') \n",
        "# naming the y axis \n",
        "plt.ylabel('y - axis') \n",
        "# giving a title to my graph \n",
        "plt.title('Two lines on same graph!') \n",
        "  \n",
        "# show a legend on the plot \n",
        "plt.legend() \n",
        "  \n",
        "# function to show the plot \n",
        "plt.show() "
      ],
      "execution_count": 0,
      "outputs": [
        {
          "output_type": "display_data",
          "data": {
            "image/png": "[encoded data removed]",
            "text/plain": [
              "<Figure size 432x288 with 1 Axes>"
            ]
          },
          "metadata": {
            "tags": []
          }
        }
      ]
    },
    {
      "cell_type": "markdown",
      "metadata": {
        "id": "iIjk1IptEB8o",
        "colab_type": "text"
      },
      "source": [
        "## Plotting result prediction (validate)"
      ]
    },
    {
      "cell_type": "code",
      "metadata": {
        "id": "y60xw7jtNa6P",
        "colab_type": "code",
        "colab": {}
      },
      "source": [
        "#memisahkan data target dengan dataset data testing\n",
        "data_window = sliding_window(data_test,window=window+1)\n",
        "test_x = data_window.drop(window,axis=1) #window days before value\n",
        "test_y = data_window[window] #days value"
      ],
      "execution_count": 0,
      "outputs": []
    },
    {
      "cell_type": "code",
      "metadata": {
        "id": "7wRNty-fQlrt",
        "colab_type": "code",
        "outputId": "5b3db553-33a2-47cf-fa96-2e54298e08a2",
        "colab": {
          "base_uri": "https://localhost:8080/",
          "height": 34
        }
      },
      "source": [
        "#membuat objek linear regresi\n",
        "regressor = LinearRegression()\n",
        "regressor.fit(test_x, test_y)"
      ],
      "execution_count": 0,
      "outputs": [
        {
          "output_type": "execute_result",
          "data": {
            "text/plain": [
              "LinearRegression(copy_X=True, fit_intercept=True, n_jobs=None, normalize=False)"
            ]
          },
          "metadata": {
            "tags": []
          },
          "execution_count": 168
        }
      ]
    },
    {
      "cell_type": "code",
      "metadata": {
        "id": "Nlb-Pe1LQr9y",
        "colab_type": "code",
        "colab": {}
      },
      "source": [
        "#menggunakan nilai kromosom individu sebagai koefisien linear regeresi\n",
        "regressor.coef_ = gbest[1][:5]"
      ],
      "execution_count": 0,
      "outputs": []
    },
    {
      "cell_type": "code",
      "metadata": {
        "id": "_PUX7vmVQ_-u",
        "colab_type": "code",
        "colab": {}
      },
      "source": [
        "#melakukan regresi pada data testing\n",
        "y_pred = regressor.predict(test_x)"
      ],
      "execution_count": 0,
      "outputs": []
    },
    {
      "cell_type": "code",
      "metadata": {
        "id": "-zazzYZGSFWJ",
        "colab_type": "code",
        "outputId": "56420084-cf15-43d4-8d25-155a0d20e810",
        "colab": {
          "base_uri": "https://localhost:8080/",
          "height": 419
        }
      },
      "source": [
        "#membuat tabel hasil regresi\n",
        "result = pd.DataFrame({'Actual': test_y, 'Predicted': y_pred+gbest[1][5:]})\n",
        "\n",
        "#mencari mean squared error dari hasil prediksi\n",
        "paramM_mse = mean_squared_error(result['Actual'], result['Predicted'])\n",
        "result"
      ],
      "execution_count": 0,
      "outputs": [
        {
          "output_type": "execute_result",
          "data": {
            "text/html": [
              "<div>\n",
              "<style scoped>\n",
              "    .dataframe tbody tr th:only-of-type {\n",
              "        vertical-align: middle;\n",
              "    }\n",
              "\n",
              "    .dataframe tbody tr th {\n",
              "        vertical-align: top;\n",
              "    }\n",
              "\n",
              "    .dataframe thead th {\n",
              "        text-align: right;\n",
              "    }\n",
              "</style>\n",
              "<table border=\"1\" class=\"dataframe\">\n",
              "  <thead>\n",
              "    <tr style=\"text-align: right;\">\n",
              "      <th></th>\n",
              "      <th>Actual</th>\n",
              "      <th>Predicted</th>\n",
              "    </tr>\n",
              "  </thead>\n",
              "  <tbody>\n",
              "    <tr>\n",
              "      <th>0</th>\n",
              "      <td>99.558</td>\n",
              "      <td>99.375722</td>\n",
              "    </tr>\n",
              "    <tr>\n",
              "      <th>1</th>\n",
              "      <td>100.356</td>\n",
              "      <td>100.185374</td>\n",
              "    </tr>\n",
              "    <tr>\n",
              "      <th>2</th>\n",
              "      <td>99.865</td>\n",
              "      <td>100.563050</td>\n",
              "    </tr>\n",
              "    <tr>\n",
              "      <th>3</th>\n",
              "      <td>99.534</td>\n",
              "      <td>100.046675</td>\n",
              "    </tr>\n",
              "    <tr>\n",
              "      <th>4</th>\n",
              "      <td>99.234</td>\n",
              "      <td>99.991603</td>\n",
              "    </tr>\n",
              "    <tr>\n",
              "      <th>...</th>\n",
              "      <td>...</td>\n",
              "      <td>...</td>\n",
              "    </tr>\n",
              "    <tr>\n",
              "      <th>634</th>\n",
              "      <td>112.894</td>\n",
              "      <td>113.615369</td>\n",
              "    </tr>\n",
              "    <tr>\n",
              "      <th>635</th>\n",
              "      <td>112.092</td>\n",
              "      <td>113.749135</td>\n",
              "    </tr>\n",
              "    <tr>\n",
              "      <th>636</th>\n",
              "      <td>112.159</td>\n",
              "      <td>112.794479</td>\n",
              "    </tr>\n",
              "    <tr>\n",
              "      <th>637</th>\n",
              "      <td>112.977</td>\n",
              "      <td>113.027126</td>\n",
              "    </tr>\n",
              "    <tr>\n",
              "      <th>638</th>\n",
              "      <td>113.961</td>\n",
              "      <td>113.520369</td>\n",
              "    </tr>\n",
              "  </tbody>\n",
              "</table>\n",
              "<p>639 rows × 2 columns</p>\n",
              "</div>"
            ],
            "text/plain": [
              "      Actual   Predicted\n",
              "0     99.558   99.375722\n",
              "1    100.356  100.185374\n",
              "2     99.865  100.563050\n",
              "3     99.534  100.046675\n",
              "4     99.234   99.991603\n",
              "..       ...         ...\n",
              "634  112.894  113.615369\n",
              "635  112.092  113.749135\n",
              "636  112.159  112.794479\n",
              "637  112.977  113.027126\n",
              "638  113.961  113.520369\n",
              "\n",
              "[639 rows x 2 columns]"
            ]
          },
          "metadata": {
            "tags": []
          },
          "execution_count": 171
        }
      ]
    },
    {
      "cell_type": "code",
      "metadata": {
        "id": "VHW_MwpPUhMH",
        "colab_type": "code",
        "outputId": "9e28c15c-a65d-4156-c908-0aebaff81aa8",
        "colab": {
          "base_uri": "https://localhost:8080/",
          "height": 550
        }
      },
      "source": [
        "result_plot = result\n",
        "\n",
        "#grafik hasil sebenarnya\n",
        "# line 1 points \n",
        "x1 = result_plot.index.values\n",
        "y1 = result_plot['Actual']\n",
        "# plotting the line 1 points  \n",
        "plt.plot(x1, y1, label = \"Actual\") \n",
        "  \n",
        "#grafik hasil prediksi\n",
        "# line 2 points \n",
        "x2 = result_plot.index.values\n",
        "y2 = result_plot['Predicted']\n",
        "# plotting the line 2 points  \n",
        "plt.plot(x2, y2, label = \"Predicted\") \n",
        "  \n",
        "# naming the x axis \n",
        "plt.xlabel('x - t') \n",
        "# naming the y axis \n",
        "plt.ylabel('y - price') \n",
        "# giving a title to my graph \n",
        "plt.title('Actual vs Predicted') \n",
        "  \n",
        "# show a legend on the plot \n",
        "plt.legend() \n",
        "  \n",
        "# function to show the plot \n",
        "plt.show() \n",
        "\n",
        "print('===========================================Summary==============================================')\n",
        "print('Data \"USDJPY\"')\n",
        "print()\n",
        "print('Mean Squared Error = ',mean_squared_error(result['Actual'], result['Predicted']))\n",
        "print()\n",
        "print('sliding window = ', window,'; + bias')\n",
        "print()\n",
        "print('coefficient = ',gbest[1])\n",
        "print()\n",
        "print('column choose = ',choose_column)\n",
        "print()\n",
        "print('data split : train percentage = ', percentage_train, '; test percentage = ', percentage_validate)\n",
        "print()\n",
        "print('popsize = ', popsize, '; switch probability (p) = ', switch_prob, '; maximum iteration = ', max_iter)\n",
        "print('================================================================================================')"
      ],
      "execution_count": 0,
      "outputs": [
        {
          "output_type": "display_data",
          "data": {
            "image/png": "[encoded data removed]",
            "text/plain": [
              "<Figure size 432x288 with 1 Axes>"
            ]
          },
          "metadata": {
            "tags": []
          }
        },
        {
          "output_type": "stream",
          "text": [
            "===========================================Summary==============================================\n",
            "Data \"USDJPY\"\n",
            "\n",
            "Mean Squared Error =  0.7243353920068822\n",
            "\n",
            "sliding window =  5 ; + bias\n",
            "\n",
            "coefficient =  [ 0.07727768  0.02929574  0.24208967 -0.23813027  0.90573746 -1.67319024]\n",
            "\n",
            "column choose =  close\n",
            "\n",
            "data split : train percentage =  0.8 ; test percentage =  0.2\n",
            "\n",
            "popsize =  150 ; switch probability (p) =  0.8 ; maximum iteration =  100\n",
            "================================================================================================\n"
          ],
          "name": "stdout"
        }
      ]
    }
  ]
}